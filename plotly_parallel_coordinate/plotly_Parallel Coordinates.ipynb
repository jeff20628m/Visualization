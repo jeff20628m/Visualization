{
 "cells": [
  {
   "cell_type": "code",
   "execution_count": 1,
   "metadata": {},
   "outputs": [
    {
     "data": {
      "text/plain": [
       "'3.6.1'"
      ]
     },
     "execution_count": 1,
     "metadata": {},
     "output_type": "execute_result"
    }
   ],
   "source": [
    "import plotly\n",
    "plotly.__version__"
   ]
  },
  {
   "cell_type": "code",
   "execution_count": 1,
   "metadata": {},
   "outputs": [],
   "source": [
    "import plotly.plotly as py\n",
    "import plotly.graph_objs as go\n",
    "\n",
    "import pandas as pd"
   ]
  },
  {
   "cell_type": "code",
   "execution_count": 2,
   "metadata": {},
   "outputs": [],
   "source": [
    "df = pd.read_csv(\"https://raw.githubusercontent.com/bcdunbar/datasets/master/iris.csv\")\n"
   ]
  },
  {
   "cell_type": "code",
   "execution_count": 4,
   "metadata": {},
   "outputs": [
    {
     "data": {
      "text/html": [
       "<div>\n",
       "<style scoped>\n",
       "    .dataframe tbody tr th:only-of-type {\n",
       "        vertical-align: middle;\n",
       "    }\n",
       "\n",
       "    .dataframe tbody tr th {\n",
       "        vertical-align: top;\n",
       "    }\n",
       "\n",
       "    .dataframe thead th {\n",
       "        text-align: right;\n",
       "    }\n",
       "</style>\n",
       "<table border=\"1\" class=\"dataframe\">\n",
       "  <thead>\n",
       "    <tr style=\"text-align: right;\">\n",
       "      <th></th>\n",
       "      <th>sepal_length</th>\n",
       "      <th>sepal_width</th>\n",
       "      <th>petal_length</th>\n",
       "      <th>petal_width</th>\n",
       "      <th>species</th>\n",
       "      <th>species_id</th>\n",
       "    </tr>\n",
       "  </thead>\n",
       "  <tbody>\n",
       "    <tr>\n",
       "      <th>0</th>\n",
       "      <td>5.1</td>\n",
       "      <td>3.5</td>\n",
       "      <td>1.4</td>\n",
       "      <td>0.2</td>\n",
       "      <td>setosa</td>\n",
       "      <td>1</td>\n",
       "    </tr>\n",
       "    <tr>\n",
       "      <th>1</th>\n",
       "      <td>4.9</td>\n",
       "      <td>3.0</td>\n",
       "      <td>1.4</td>\n",
       "      <td>0.2</td>\n",
       "      <td>setosa</td>\n",
       "      <td>1</td>\n",
       "    </tr>\n",
       "    <tr>\n",
       "      <th>2</th>\n",
       "      <td>4.7</td>\n",
       "      <td>3.2</td>\n",
       "      <td>1.3</td>\n",
       "      <td>0.2</td>\n",
       "      <td>setosa</td>\n",
       "      <td>1</td>\n",
       "    </tr>\n",
       "    <tr>\n",
       "      <th>3</th>\n",
       "      <td>4.6</td>\n",
       "      <td>3.1</td>\n",
       "      <td>1.5</td>\n",
       "      <td>0.2</td>\n",
       "      <td>setosa</td>\n",
       "      <td>1</td>\n",
       "    </tr>\n",
       "    <tr>\n",
       "      <th>4</th>\n",
       "      <td>5.0</td>\n",
       "      <td>3.6</td>\n",
       "      <td>1.4</td>\n",
       "      <td>0.2</td>\n",
       "      <td>setosa</td>\n",
       "      <td>1</td>\n",
       "    </tr>\n",
       "  </tbody>\n",
       "</table>\n",
       "</div>"
      ],
      "text/plain": [
       "   sepal_length  sepal_width  petal_length  petal_width species  species_id\n",
       "0           5.1          3.5           1.4          0.2  setosa           1\n",
       "1           4.9          3.0           1.4          0.2  setosa           1\n",
       "2           4.7          3.2           1.3          0.2  setosa           1\n",
       "3           4.6          3.1           1.5          0.2  setosa           1\n",
       "4           5.0          3.6           1.4          0.2  setosa           1"
      ]
     },
     "execution_count": 4,
     "metadata": {},
     "output_type": "execute_result"
    }
   ],
   "source": [
    "df.head()"
   ]
  },
  {
   "cell_type": "code",
   "execution_count": 5,
   "metadata": {},
   "outputs": [
    {
     "name": "stderr",
     "output_type": "stream",
     "text": [
      "C:\\ProgramData\\Anaconda3\\lib\\site-packages\\IPython\\core\\display.py:689: UserWarning:\n",
      "\n",
      "Consider using IPython.display.IFrame instead\n",
      "\n"
     ]
    },
    {
     "data": {
      "text/html": [
       "<iframe id=\"igraph\" scrolling=\"no\" style=\"border:none;\" seamless=\"seamless\" src=\"https://plot.ly/~jeff20628m/7.embed\" height=\"525px\" width=\"100%\"></iframe>"
      ],
      "text/plain": [
       "<plotly.tools.PlotlyDisplay object>"
      ]
     },
     "execution_count": 5,
     "metadata": {},
     "output_type": "execute_result"
    }
   ],
   "source": [
    "data = [\n",
    "    go.Parcoords(\n",
    "        line = dict(color = df['species_id'],\n",
    "                   colorscale = [[0,'#D7C16B'],[0.5,'#23D8C3'],[1,'#F3F10F']]),\n",
    "        dimensions = list([\n",
    "            dict(range = [0,8],\n",
    "                constraintrange = [4,8],\n",
    "                label = 'Sepal Length', values = df['sepal_length']),\n",
    "            dict(range = [0,8],\n",
    "                label = 'Sepal Width', values = df['sepal_width']),\n",
    "            dict(range = [0,8],\n",
    "                label = 'Petal Length', values = df['petal_length']),\n",
    "            dict(range = [0,8],\n",
    "                label = 'Petal Width', values = df['petal_width'])\n",
    "        ])\n",
    "    )\n",
    "]\n",
    "\n",
    "layout = go.Layout(\n",
    "    plot_bgcolor = '#E5E5E5',\n",
    "    paper_bgcolor = '#E5E5E5'\n",
    ")\n",
    "\n",
    "fig = go.Figure(data = data, layout = layout)\n",
    "py.iplot(fig, filename = 'parcoords-basic')"
   ]
  },
  {
   "cell_type": "code",
   "execution_count": 19,
   "metadata": {},
   "outputs": [],
   "source": [
    "df_full = pd.read_csv(\"D:/WordsearchProject/Githubfile/------/final_code/data/training_data.csv\")"
   ]
  },
  {
   "cell_type": "code",
   "execution_count": 20,
   "metadata": {},
   "outputs": [],
   "source": [
    "df = df_full[:2000]"
   ]
  },
  {
   "cell_type": "code",
   "execution_count": 26,
   "metadata": {},
   "outputs": [],
   "source": [
    "type = df['BUY_TYPE'] "
   ]
  },
  {
   "cell_type": "code",
   "execution_count": 32,
   "metadata": {},
   "outputs": [],
   "source": [
    "listtype = []\n",
    "for i in type :\n",
    "    if i == 'a' :\n",
    "        listtype.append(1)\n",
    "    if i == 'b' :\n",
    "        listtype.append(2)\n",
    "    if i == 'c' :\n",
    "        listtype.append(3)\n",
    "    if i == 'd' :\n",
    "        listtype.append(4)\n",
    "    if i == 'e' :\n",
    "        listtype.append(5)\n",
    "    if i == 'f' :\n",
    "        listtype.append(6)\n",
    "    if i == 'g' :\n",
    "        listtype.append(7)"
   ]
  },
  {
   "cell_type": "code",
   "execution_count": 33,
   "metadata": {},
   "outputs": [
    {
     "name": "stderr",
     "output_type": "stream",
     "text": [
      "C:\\ProgramData\\Anaconda3\\lib\\site-packages\\ipykernel_launcher.py:1: SettingWithCopyWarning:\n",
      "\n",
      "\n",
      "A value is trying to be set on a copy of a slice from a DataFrame.\n",
      "Try using .loc[row_indexer,col_indexer] = value instead\n",
      "\n",
      "See the caveats in the documentation: http://pandas.pydata.org/pandas-docs/stable/indexing.html#indexing-view-versus-copy\n",
      "\n"
     ]
    }
   ],
   "source": [
    "df['BUY_TYPE'] = listtype"
   ]
  },
  {
   "cell_type": "code",
   "execution_count": 34,
   "metadata": {},
   "outputs": [
    {
     "data": {
      "text/html": [
       "<div>\n",
       "<style scoped>\n",
       "    .dataframe tbody tr th:only-of-type {\n",
       "        vertical-align: middle;\n",
       "    }\n",
       "\n",
       "    .dataframe tbody tr th {\n",
       "        vertical-align: top;\n",
       "    }\n",
       "\n",
       "    .dataframe thead th {\n",
       "        text-align: right;\n",
       "    }\n",
       "</style>\n",
       "<table border=\"1\" class=\"dataframe\">\n",
       "  <thead>\n",
       "    <tr style=\"text-align: right;\">\n",
       "      <th></th>\n",
       "      <th>Unnamed: 0</th>\n",
       "      <th>CUST_ID</th>\n",
       "      <th>HEIGHT</th>\n",
       "      <th>WEIGHT</th>\n",
       "      <th>BUDGET</th>\n",
       "      <th>AGE_0</th>\n",
       "      <th>AGE_1</th>\n",
       "      <th>AGE_2</th>\n",
       "      <th>AGE_3</th>\n",
       "      <th>AGE_4</th>\n",
       "      <th>...</th>\n",
       "      <th>TY6_5</th>\n",
       "      <th>TY6_6</th>\n",
       "      <th>TY7_0</th>\n",
       "      <th>TY7_1</th>\n",
       "      <th>TY7_2</th>\n",
       "      <th>TY7_3</th>\n",
       "      <th>TY7_4</th>\n",
       "      <th>TY7_5</th>\n",
       "      <th>TY7_6</th>\n",
       "      <th>BUY_TYPE</th>\n",
       "    </tr>\n",
       "  </thead>\n",
       "  <tbody>\n",
       "    <tr>\n",
       "      <th>0</th>\n",
       "      <td>0</td>\n",
       "      <td>2903965</td>\n",
       "      <td>0.290444</td>\n",
       "      <td>-0.069464</td>\n",
       "      <td>-0.097277</td>\n",
       "      <td>0</td>\n",
       "      <td>0</td>\n",
       "      <td>0</td>\n",
       "      <td>1</td>\n",
       "      <td>0</td>\n",
       "      <td>...</td>\n",
       "      <td>0</td>\n",
       "      <td>1</td>\n",
       "      <td>0</td>\n",
       "      <td>0</td>\n",
       "      <td>0</td>\n",
       "      <td>0</td>\n",
       "      <td>0</td>\n",
       "      <td>0</td>\n",
       "      <td>1</td>\n",
       "      <td>1</td>\n",
       "    </tr>\n",
       "    <tr>\n",
       "      <th>1</th>\n",
       "      <td>1</td>\n",
       "      <td>2815518</td>\n",
       "      <td>0.076742</td>\n",
       "      <td>0.090842</td>\n",
       "      <td>0.527346</td>\n",
       "      <td>0</td>\n",
       "      <td>0</td>\n",
       "      <td>0</td>\n",
       "      <td>0</td>\n",
       "      <td>0</td>\n",
       "      <td>...</td>\n",
       "      <td>0</td>\n",
       "      <td>1</td>\n",
       "      <td>0</td>\n",
       "      <td>0</td>\n",
       "      <td>0</td>\n",
       "      <td>0</td>\n",
       "      <td>0</td>\n",
       "      <td>0</td>\n",
       "      <td>1</td>\n",
       "      <td>1</td>\n",
       "    </tr>\n",
       "    <tr>\n",
       "      <th>2</th>\n",
       "      <td>2</td>\n",
       "      <td>526983</td>\n",
       "      <td>0.172307</td>\n",
       "      <td>-0.162807</td>\n",
       "      <td>-0.236314</td>\n",
       "      <td>0</td>\n",
       "      <td>0</td>\n",
       "      <td>0</td>\n",
       "      <td>0</td>\n",
       "      <td>0</td>\n",
       "      <td>...</td>\n",
       "      <td>0</td>\n",
       "      <td>0</td>\n",
       "      <td>0</td>\n",
       "      <td>0</td>\n",
       "      <td>0</td>\n",
       "      <td>0</td>\n",
       "      <td>1</td>\n",
       "      <td>0</td>\n",
       "      <td>0</td>\n",
       "      <td>4</td>\n",
       "    </tr>\n",
       "  </tbody>\n",
       "</table>\n",
       "<p>3 rows × 132 columns</p>\n",
       "</div>"
      ],
      "text/plain": [
       "   Unnamed: 0  CUST_ID    HEIGHT    WEIGHT    BUDGET  AGE_0  AGE_1  AGE_2  \\\n",
       "0           0  2903965  0.290444 -0.069464 -0.097277      0      0      0   \n",
       "1           1  2815518  0.076742  0.090842  0.527346      0      0      0   \n",
       "2           2   526983  0.172307 -0.162807 -0.236314      0      0      0   \n",
       "\n",
       "   AGE_3  AGE_4  ...  TY6_5  TY6_6  TY7_0  TY7_1  TY7_2  TY7_3  TY7_4  TY7_5  \\\n",
       "0      1      0  ...      0      1      0      0      0      0      0      0   \n",
       "1      0      0  ...      0      1      0      0      0      0      0      0   \n",
       "2      0      0  ...      0      0      0      0      0      0      1      0   \n",
       "\n",
       "   TY7_6  BUY_TYPE  \n",
       "0      1         1  \n",
       "1      1         1  \n",
       "2      0         4  \n",
       "\n",
       "[3 rows x 132 columns]"
      ]
     },
     "execution_count": 34,
     "metadata": {},
     "output_type": "execute_result"
    }
   ],
   "source": [
    "df.head(3)"
   ]
  },
  {
   "cell_type": "code",
   "execution_count": 23,
   "metadata": {},
   "outputs": [],
   "source": [
    "columns = df.columns.to_list()"
   ]
  },
  {
   "cell_type": "code",
   "execution_count": 24,
   "metadata": {},
   "outputs": [
    {
     "data": {
      "text/plain": [
       "['Unnamed: 0',\n",
       " 'CUST_ID',\n",
       " 'HEIGHT',\n",
       " 'WEIGHT',\n",
       " 'BUDGET',\n",
       " 'AGE_0',\n",
       " 'AGE_1',\n",
       " 'AGE_2',\n",
       " 'AGE_3',\n",
       " 'AGE_4',\n",
       " 'AGE_5',\n",
       " 'AGE_6',\n",
       " 'AGE_7',\n",
       " 'AGE_8',\n",
       " 'AGE_9',\n",
       " 'AGE_10',\n",
       " 'AGE_11',\n",
       " 'AGE_12',\n",
       " 'AGE_13',\n",
       " 'AGE_14',\n",
       " 'AGE_15',\n",
       " 'AGE_16',\n",
       " 'City_0',\n",
       " 'City_1',\n",
       " 'City_2',\n",
       " 'City_3',\n",
       " 'City_4',\n",
       " 'City_5',\n",
       " 'City_6',\n",
       " 'City_7',\n",
       " 'City_8',\n",
       " 'City_9',\n",
       " 'City_10',\n",
       " 'City_11',\n",
       " 'City_12',\n",
       " 'City_13',\n",
       " 'City_14',\n",
       " 'City_15',\n",
       " 'City_16',\n",
       " 'City_17',\n",
       " 'City_18',\n",
       " 'City_19',\n",
       " 'City_20',\n",
       " 'City_21',\n",
       " 'City_22',\n",
       " 'MAR_0',\n",
       " 'MAR_1',\n",
       " 'MAR_2',\n",
       " 'MAR_3',\n",
       " 'MAR_4',\n",
       " 'MAR_5',\n",
       " 'MONTH_1',\n",
       " 'MONTH_2',\n",
       " 'MONTH_3',\n",
       " 'MONTH_4',\n",
       " 'MONTH_5',\n",
       " 'MONTH_6',\n",
       " 'MONTH_7',\n",
       " 'MONTH_8',\n",
       " 'MONTH_9',\n",
       " 'MONTH_10',\n",
       " 'MONTH_11',\n",
       " 'MONTH_12',\n",
       " 'CHL_1',\n",
       " 'CHL_2',\n",
       " 'CHL_3',\n",
       " 'CHL_4',\n",
       " 'CHL_5',\n",
       " 'CHL_6',\n",
       " 'CHL_7',\n",
       " 'CHL_8',\n",
       " 'CHL_9',\n",
       " 'CHL_10',\n",
       " 'CHL_11',\n",
       " 'EDU_0',\n",
       " 'EDU_1',\n",
       " 'EDU_2',\n",
       " 'EDU_3',\n",
       " 'A',\n",
       " 'B',\n",
       " 'A.1',\n",
       " 'B.1',\n",
       " 'A.2',\n",
       " 'B.2',\n",
       " 'TY1_0',\n",
       " 'TY1_1',\n",
       " 'TY1_2',\n",
       " 'TY1_3',\n",
       " 'TY1_4',\n",
       " 'TY1_5',\n",
       " 'TY1_6',\n",
       " 'TY2_0',\n",
       " 'TY2_1',\n",
       " 'TY2_2',\n",
       " 'TY2_3',\n",
       " 'TY2_4',\n",
       " 'TY2_5',\n",
       " 'TY2_6',\n",
       " 'TY3_0',\n",
       " 'TY3_1',\n",
       " 'TY3_2',\n",
       " 'TY3_3',\n",
       " 'TY3_4',\n",
       " 'TY4_0',\n",
       " 'TY4_1',\n",
       " 'TY4_2',\n",
       " 'TY4_3',\n",
       " 'TY4_4',\n",
       " 'TY4_5',\n",
       " 'TY4_6',\n",
       " 'TY5_0',\n",
       " 'TY5_1',\n",
       " 'TY5_2',\n",
       " 'TY5_3',\n",
       " 'TY5_4',\n",
       " 'TY5_5',\n",
       " 'TY5_6',\n",
       " 'TY6_0',\n",
       " 'TY6_1',\n",
       " 'TY6_2',\n",
       " 'TY6_3',\n",
       " 'TY6_4',\n",
       " 'TY6_5',\n",
       " 'TY6_6',\n",
       " 'TY7_0',\n",
       " 'TY7_1',\n",
       " 'TY7_2',\n",
       " 'TY7_3',\n",
       " 'TY7_4',\n",
       " 'TY7_5',\n",
       " 'TY7_6',\n",
       " 'BUY_TYPE']"
      ]
     },
     "execution_count": 24,
     "metadata": {},
     "output_type": "execute_result"
    }
   ],
   "source": [
    "columns"
   ]
  },
  {
   "cell_type": "code",
   "execution_count": 42,
   "metadata": {},
   "outputs": [
    {
     "data": {
      "text/html": [
       "<iframe id=\"igraph\" scrolling=\"no\" style=\"border:none;\" seamless=\"seamless\" src=\"https://plot.ly/~jeff20628m/6.embed\" height=\"525px\" width=\"100%\"></iframe>"
      ],
      "text/plain": [
       "<plotly.tools.PlotlyDisplay object>"
      ]
     },
     "execution_count": 42,
     "metadata": {},
     "output_type": "execute_result"
    }
   ],
   "source": [
    "data = [\n",
    "    go.Parcoords(\n",
    "        line = dict(color = df['BUY_TYPE'],\n",
    "                   autocolorscale = True),\n",
    "        dimensions = list([\n",
    "            dict(range = [-1,1],\n",
    "                label = 'BUDGET', values = df['BUDGET']),\n",
    "            dict(tickvals = [0,1],\n",
    "                ticktext =['N','Y'],\n",
    "                label = 'AGE_1', values = df['AGE_1']),\n",
    "            dict(tickvals = [0,1],\n",
    "                ticktext =['N','Y'],\n",
    "                label = 'AGE_2', values = df['AGE_2']),\n",
    "            dict(tickvals = [0,1],\n",
    "                ticktext =['N','Y'],\n",
    "                label = 'AGE_3', values = df['AGE_3']),\n",
    "            dict(tickvals = [0,1],\n",
    "                ticktext =['N','Y'],\n",
    "                label = 'MONTH_1', values = df['MONTH_1']),\n",
    "            dict(tickvals = [0,1],\n",
    "                ticktext =['N','Y'],\n",
    "                label = 'MONTH_2', values = df['MONTH_2']),\n",
    "            dict(tickvals = [0,1],\n",
    "                ticktext =['N','Y'],\n",
    "                label = 'MONTH_3', values = df['MONTH_3']),\n",
    "            dict(tickvals = [0,1],\n",
    "                ticktext =['N','Y'],\n",
    "                label = 'MONTH_4', values = df['MONTH_4']),\n",
    "            dict(tickvals = [0,1],\n",
    "                ticktext =['N','Y'],\n",
    "                label = 'MONTH_5', values = df['MONTH_5']),\n",
    "            dict(tickvals = [0,1],\n",
    "                ticktext =['N','Y'],\n",
    "                label = 'MONTH_6', values = df['MONTH_6'])\n",
    "            \n",
    "        ])\n",
    "    )\n",
    "]\n",
    "\n",
    "py.iplot(data, filename = 'parcoord-dimensions')\n"
   ]
  }
 ],
 "metadata": {
  "kernelspec": {
   "display_name": "Python 3",
   "language": "python",
   "name": "python3"
  },
  "language_info": {
   "codemirror_mode": {
    "name": "ipython",
    "version": 3
   },
   "file_extension": ".py",
   "mimetype": "text/x-python",
   "name": "python",
   "nbconvert_exporter": "python",
   "pygments_lexer": "ipython3",
   "version": "3.7.2"
  }
 },
 "nbformat": 4,
 "nbformat_minor": 2
}
